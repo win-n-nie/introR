{
 "cells": [
  {
   "cell_type": "code",
   "execution_count": null,
   "metadata": {
    "vscode": {
     "languageId": "r"
    }
   },
   "outputs": [
    {
     "ename": "",
     "evalue": "",
     "output_type": "error",
     "traceback": [
      "\u001b[1;31mFailed to start the Kernel. \n",
      "\u001b[1;31mdyld[48419]: Library not loaded: '@rpath/libreadline.6.2.dylib'\n",
      "\u001b[1;31m  Referenced from: '/Users/wendyarias/opt/anaconda3/lib/R/lib/libR.dylib'\n",
      "\u001b[1;31m  Reason: tried: '/Users/wendyarias/opt/anaconda3/lib/R/lib/../../libreadline.6.2.dylib' (no such file), '/Users/wendyarias/opt/anaconda3/lib/R/bin/exec/../../../libreadline.6.2.dylib' (no such file), '/Users/wendyarias/opt/anaconda3/lib/R/bin/exec/../../../libreadline.6.2.dylib' (no such file), '/Users/wendyarias/opt/anaconda3/lib/R/lib/libreadline.6.2.dylib' (no such file), '/Users/wendyarias/opt/anaconda3/lib/libreadline.6.2.dylib' (no such file), '/Users/wendyarias/opt/anaconda3/libreadline.6.2.dylib' (no such file). \n",
      "\u001b[1;31mView Jupyter <a href='command:jupyter.viewOutput'>log</a> for further details."
     ]
    }
   ],
   "source": [
    "conda install -c r r-irkernel"
   ]
  },
  {
   "cell_type": "code",
   "execution_count": null,
   "metadata": {
    "vscode": {
     "languageId": "r"
    }
   },
   "outputs": [
    {
     "ename": "",
     "evalue": "",
     "output_type": "error",
     "traceback": [
      "\u001b[1;31mFailed to start the Kernel. \n",
      "\u001b[1;31mdyld[48458]: Library not loaded: '@rpath/libreadline.6.2.dylib'\n",
      "\u001b[1;31m  Referenced from: '/Users/wendyarias/opt/anaconda3/lib/R/lib/libR.dylib'\n",
      "\u001b[1;31m  Reason: tried: '/Users/wendyarias/opt/anaconda3/lib/R/lib/../../libreadline.6.2.dylib' (no such file), '/Users/wendyarias/opt/anaconda3/lib/R/bin/exec/../../../libreadline.6.2.dylib' (no such file), '/Users/wendyarias/opt/anaconda3/lib/R/bin/exec/../../../libreadline.6.2.dylib' (no such file), '/Users/wendyarias/opt/anaconda3/lib/R/lib/libreadline.6.2.dylib' (no such file), '/Users/wendyarias/opt/anaconda3/lib/libreadline.6.2.dylib' (no such file), '/Users/wendyarias/opt/anaconda3/libreadline.6.2.dylib' (no such file). \n",
      "\u001b[1;31mView Jupyter <a href='command:jupyter.viewOutput'>log</a> for further details."
     ]
    }
   ],
   "source": [
    "install.packages('IRkernel') ; IRkernel::installspec()"
   ]
  },
  {
   "cell_type": "code",
   "execution_count": null,
   "metadata": {
    "vscode": {
     "languageId": "r"
    }
   },
   "outputs": [
    {
     "ename": "",
     "evalue": "",
     "output_type": "error",
     "traceback": [
      "\u001b[1;31mFailed to start the Kernel. \n",
      "\u001b[1;31mdyld[48339]: Library not loaded: '@rpath/libreadline.6.2.dylib'\n",
      "\u001b[1;31m  Referenced from: '/Users/wendyarias/opt/anaconda3/lib/R/lib/libR.dylib'\n",
      "\u001b[1;31m  Reason: tried: '/Users/wendyarias/opt/anaconda3/lib/R/lib/../../libreadline.6.2.dylib' (no such file), '/Users/wendyarias/opt/anaconda3/lib/R/bin/exec/../../../libreadline.6.2.dylib' (no such file), '/Users/wendyarias/opt/anaconda3/lib/R/bin/exec/../../../libreadline.6.2.dylib' (no such file), '/Users/wendyarias/opt/anaconda3/lib/R/lib/libreadline.6.2.dylib' (no such file), '/Users/wendyarias/opt/anaconda3/lib/libreadline.6.2.dylib' (no such file), '/Users/wendyarias/opt/anaconda3/libreadline.6.2.dylib' (no such file). \n",
      "\u001b[1;31mView Jupyter <a href='command:jupyter.viewOutput'>log</a> for further details."
     ]
    }
   ],
   "source": [
    "x <- 12"
   ]
  },
  {
   "cell_type": "code",
   "execution_count": null,
   "metadata": {
    "vscode": {
     "languageId": "r"
    }
   },
   "outputs": [],
   "source": []
  }
 ],
 "metadata": {
  "kernelspec": {
   "display_name": "R",
   "language": "R",
   "name": "ir"
  },
  "language_info": {
   "name": "R",
   "version": "3.9.12"
  },
  "orig_nbformat": 4,
  "vscode": {
   "interpreter": {
    "hash": "1578ab4350de2847703e98491769d5ca03ef91adb05a63e15a7daa3037c44ddf"
   }
  }
 },
 "nbformat": 4,
 "nbformat_minor": 2
}
